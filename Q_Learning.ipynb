{
 "cells": [
  {
   "cell_type": "code",
   "execution_count": 8,
   "metadata": {},
   "outputs": [],
   "source": [
    "import gym \n",
    "import numpy as np\n",
    "import random as rn\n",
    "from pylab import *\n",
    "import math as mt"
   ]
  },
  {
   "cell_type": "code",
   "execution_count": 9,
   "metadata": {},
   "outputs": [],
   "source": [
    "env = gym.make(\"CartPole-v1\")#,render_mode=\"human\""
   ]
  },
  {
   "cell_type": "code",
   "execution_count": 57,
   "metadata": {},
   "outputs": [],
   "source": [
    "act_spc = env.action_space.n\n",
    "obs_spc = env.observation_space.shape\n",
    "#just in case\n",
    "H_obs_spc = env.observation_space.high\n",
    "L_obs_spc = env.observation_space.low"
   ]
  },
  {
   "cell_type": "code",
   "execution_count": 98,
   "metadata": {},
   "outputs": [],
   "source": [
    "#Hyperparameters: \n",
    "lr = 0.01\n",
    "gamma = 0.96\n",
    "\n",
    "epoc =60000 #number of iteration\n",
    "tot = 0\n",
    "tot_rew = 0\n",
    "pr_rew =0\n",
    "#epsilon will change later, not a hyperparameter\n",
    "eps =1\n",
    "\"\"\"\"eps_deayVal = 0.95\"\"\"\n",
    "S_decay_eps = 1 #starting epsilon decay number\n",
    "E_decay_eps = epoc//2\n",
    "eps_decay = eps/(E_decay_eps-S_decay_eps)\n",
    "M_rew= []\n",
    "Pr_Rew =[]"
   ]
  },
  {
   "cell_type": "code",
   "execution_count": 12,
   "metadata": {},
   "outputs": [],
   "source": [
    "obs = [30,30,50,50] #honestly, I have no clue why is it set like this\n",
    "W_size_array = np.array([0.25,0.25,0.01,0.1]) #same as here"
   ]
  },
  {
   "cell_type": "code",
   "execution_count": 13,
   "metadata": {},
   "outputs": [
    {
     "data": {
      "text/plain": [
       "(30, 30, 50, 50, 2)"
      ]
     },
     "execution_count": 13,
     "metadata": {},
     "output_type": "execute_result"
    }
   ],
   "source": [
    "#Q-Table:\n",
    "Qtab = np.random.uniform(low=0,high=1,size=(obs+[act_spc]))\n",
    "#check Q-Table\n",
    "Qtab.shape"
   ]
  },
  {
   "cell_type": "code",
   "execution_count": 92,
   "metadata": {},
   "outputs": [],
   "source": [
    "def get_D_st(state):\n",
    "    disc_st = state/W_size_array + np.array([15,10,1,10])\n",
    "    return tuple(disc_st.astype(np.int))"
   ]
  },
  {
   "cell_type": "code",
   "execution_count": 99,
   "metadata": {
    "scrolled": true
   },
   "outputs": [
    {
     "name": "stdout",
     "output_type": "stream",
     "text": [
      "Episode: 0\n",
      "Mean Reward:  0.044\n",
      "Mean Reward:  22.834\n",
      "Epsilon:  0.9666655555184969\n",
      "Mean Reward:  21.784\n",
      "Mean Reward:  22.406\n",
      "Episode: 2000\n",
      "Epsilon:  0.9333311110369937\n",
      "Mean Reward:  22.278\n",
      "Mean Reward:  22.608\n",
      "Epsilon:  0.8999966665554906\n",
      "Mean Reward:  22.334\n",
      "Mean Reward:  23.036\n",
      "Episode: 4000\n",
      "Epsilon:  0.8666622220739875\n",
      "Mean Reward:  21.888\n",
      "Mean Reward:  21.496\n",
      "Epsilon:  0.8333277775924843\n",
      "Mean Reward:  22.658\n",
      "Mean Reward:  22.614\n",
      "Episode: 6000\n",
      "Epsilon:  0.7999933331109812\n",
      "Mean Reward:  21.836\n",
      "Mean Reward:  22.098\n",
      "Epsilon:  0.7666588886294781\n",
      "Mean Reward:  22.566\n",
      "Mean Reward:  21.894\n",
      "Episode: 8000\n",
      "Epsilon:  0.7333244441479749\n",
      "Mean Reward:  21.76\n",
      "Mean Reward:  21.198\n",
      "Epsilon:  0.6999899996664718\n",
      "Mean Reward:  21.574\n",
      "Mean Reward:  21.944\n",
      "Episode: 10000\n",
      "Epsilon:  0.6666555551849687\n",
      "Mean Reward:  21.826\n",
      "Mean Reward:  21.932\n",
      "Epsilon:  0.6333211107034655\n",
      "Mean Reward:  21.634\n",
      "Mean Reward:  21.568\n",
      "Episode: 12000\n",
      "Epsilon:  0.5999866662219624\n",
      "Mean Reward:  22.274\n",
      "Mean Reward:  21.252\n",
      "Epsilon:  0.5666522217404593\n",
      "Mean Reward:  22.31\n",
      "Mean Reward:  20.842\n",
      "Episode: 14000\n",
      "Epsilon:  0.5333177772589561\n",
      "Mean Reward:  21.466\n",
      "Mean Reward:  21.534\n",
      "Epsilon:  0.499983332777453\n",
      "Mean Reward:  21.368\n",
      "Mean Reward:  22.1\n",
      "Episode: 16000\n",
      "Epsilon:  0.46664888829594986\n",
      "Mean Reward:  21.01\n",
      "Mean Reward:  21.718\n",
      "Epsilon:  0.4333144438144467\n",
      "Mean Reward:  22.076\n",
      "Mean Reward:  20.928\n",
      "Episode: 18000\n",
      "Epsilon:  0.3999799993329436\n",
      "Mean Reward:  20.436\n",
      "Mean Reward:  20.952\n",
      "Epsilon:  0.36664555485144046\n",
      "Mean Reward:  21.518\n",
      "Mean Reward:  20.968\n",
      "Episode: 20000\n",
      "Epsilon:  0.3333111103699373\n",
      "Mean Reward:  23.178\n",
      "Mean Reward:  21.782\n",
      "Epsilon:  0.2999766658884342\n",
      "Mean Reward:  20.538\n",
      "Mean Reward:  21.442\n",
      "Episode: 22000\n",
      "Epsilon:  0.26664222140693106\n",
      "Mean Reward:  21.172\n",
      "Mean Reward:  20.626\n",
      "Epsilon:  0.23330777692544183\n",
      "Mean Reward:  20.232\n",
      "Mean Reward:  21.202\n",
      "Episode: 24000\n",
      "Epsilon:  0.19997333244396645\n",
      "Mean Reward:  21.15\n",
      "Mean Reward:  20.35\n",
      "Epsilon:  0.16663888796249107\n",
      "Mean Reward:  21.232\n",
      "Mean Reward:  20.768\n",
      "Episode: 26000\n",
      "Epsilon:  0.1333044434810157\n",
      "Mean Reward:  21.09\n",
      "Mean Reward:  21.148\n",
      "Epsilon:  0.0999699989995299\n",
      "Mean Reward:  20.878\n",
      "Mean Reward:  20.582\n",
      "Episode: 28000\n",
      "Epsilon:  0.06663555451804064\n",
      "Mean Reward:  21.588\n",
      "Mean Reward:  20.326\n",
      "Epsilon:  0.03330111003655746\n",
      "Mean Reward:  20.148\n",
      "Mean Reward:  20.134\n",
      "Episode: 30000\n",
      "Epsilon:  -3.3334444924907785e-05\n",
      "Mean Reward:  20.522\n",
      "Mean Reward:  20.048\n",
      "Mean Reward:  20.658\n",
      "Mean Reward:  20.136\n",
      "Episode: 32000\n",
      "Mean Reward:  20.432\n",
      "Mean Reward:  21.118\n",
      "Mean Reward:  20.024\n",
      "Mean Reward:  20.238\n",
      "Episode: 34000\n",
      "Mean Reward:  21.28\n",
      "Mean Reward:  20.848\n",
      "Mean Reward:  20.026\n",
      "Mean Reward:  21.574\n",
      "Episode: 36000\n",
      "Mean Reward:  20.554\n",
      "Mean Reward:  19.994\n",
      "Mean Reward:  19.78\n",
      "Mean Reward:  20.488\n",
      "Episode: 38000\n",
      "Mean Reward:  20.606\n",
      "Mean Reward:  20.156\n",
      "Mean Reward:  19.404\n",
      "Mean Reward:  20.06\n",
      "Episode: 40000\n",
      "Mean Reward:  20.732\n",
      "Mean Reward:  20.034\n",
      "Mean Reward:  19.612\n",
      "Mean Reward:  19.958\n",
      "Episode: 42000\n",
      "Mean Reward:  21.4\n",
      "Mean Reward:  19.69\n",
      "Mean Reward:  19.82\n",
      "Mean Reward:  19.774\n",
      "Episode: 44000\n",
      "Mean Reward:  19.816\n",
      "Mean Reward:  20.552\n",
      "Mean Reward:  20.206\n",
      "Mean Reward:  20.12\n",
      "Episode: 46000\n",
      "Mean Reward:  19.54\n",
      "Mean Reward:  20.362\n",
      "Mean Reward:  21.154\n",
      "Mean Reward:  20.326\n",
      "Episode: 48000\n",
      "Mean Reward:  19.86\n",
      "Mean Reward:  20.594\n",
      "Mean Reward:  20.94\n",
      "Mean Reward:  19.946\n",
      "Episode: 50000\n",
      "Mean Reward:  20.498\n",
      "Mean Reward:  20.594\n",
      "Mean Reward:  20.864\n",
      "Mean Reward:  19.796\n",
      "Episode: 52000\n",
      "Mean Reward:  20.57\n",
      "Mean Reward:  19.476\n",
      "Mean Reward:  20.752\n",
      "Mean Reward:  19.404\n",
      "Episode: 54000\n",
      "Mean Reward:  20.744\n",
      "Mean Reward:  20.46\n",
      "Mean Reward:  20.542\n",
      "Mean Reward:  20.43\n",
      "Episode: 56000\n",
      "Mean Reward:  20.214\n",
      "Mean Reward:  19.994\n",
      "Mean Reward:  20.664\n",
      "Mean Reward:  19.742\n",
      "Episode: 58000\n",
      "Mean Reward:  21.426\n",
      "Mean Reward:  19.594\n",
      "Mean Reward:  19.828\n",
      "Mean Reward:  20.484\n",
      "Episode: 60000\n",
      "Mean Reward:  20.226\n"
     ]
    }
   ],
   "source": [
    "for i in range(epoc+1):\n",
    "    disc_st = get_D_st(env.reset()[0])\n",
    "    done = False\n",
    "    EpRew = 0 # episode reward ==> starts at 0 for each epoch\n",
    "    #Check where the loop is\n",
    "    if i %2000==0:\n",
    "        print(\"Episode: \"+str(i)) #i is an integer, needs to be string in this case!\n",
    "    \n",
    "    while not done:\n",
    "        #Action selection:\n",
    "        if np.random.random() > eps:\n",
    "            act = np.argmax(Qtab[disc_st]) #action from Q-Table\n",
    "        else:\n",
    "            act = np.random.randint(0,act_spc) #random action\n",
    "        \n",
    "        nw_st,rew,done,_,_ = env.step(act)\n",
    "        nw_D_state = get_D_st(nw_st)\n",
    "        \n",
    "        EpRew += rew\n",
    "        #Update the Q-Table:\n",
    "        if not done: \n",
    "            F_mxQ = np.max(Qtab[nw_D_state])\n",
    "            C_Q = Qtab[disc_st+(act,)]\n",
    "            N_Q = (1-lr)*C_Q+lr*(rew+gamma*F_mxQ)\n",
    "        \n",
    "        disc_st = nw_D_state\n",
    "        \n",
    "    if E_decay_eps>=i>=S_decay_eps:\n",
    "        eps -=eps_decay\n",
    "        if i%1000==0:\n",
    "            print(\"Epsilon: \",str(eps))\n",
    "    tot_rew += EpRew\n",
    "    pr_rew = EpRew\n",
    "    \n",
    "    if i %500==0:\n",
    "        mean_rew = tot_rew/500\n",
    "        print(\"Mean Reward: \",str(mean_rew))\n",
    "        M_rew.append(mean_rew)\n",
    "        tot_rew=0\n",
    "        #Pr_Rew.append(tot_rew)\n",
    "env.close()\n",
    "        \n",
    "        "
   ]
  },
  {
   "cell_type": "code",
   "execution_count": 100,
   "metadata": {},
   "outputs": [
    {
     "data": {
      "image/png": "[encoded data removed]",
      "text/plain": [
       "<Figure size 432x288 with 1 Axes>"
      ]
     },
     "metadata": {
      "needs_background": "light"
     },
     "output_type": "display_data"
    }
   ],
   "source": [
    "xax = np.arange(0,len(M_rew))\n",
    "scatter(xax,M_rew,s=2,c='k')\n",
    "plot(M_rew)#[:2])\n",
    "\n",
    "grid(True)"
   ]
  },
  {
   "cell_type": "code",
   "execution_count": 101,
   "metadata": {},
   "outputs": [
    {
     "data": {
      "text/plain": [
       "20.733983471074378"
      ]
     },
     "execution_count": 101,
     "metadata": {},
     "output_type": "execute_result"
    }
   ],
   "source": [
    "mean(M_rew)"
   ]
  },
  {
   "cell_type": "code",
   "execution_count": null,
   "metadata": {},
   "outputs": [],
   "source": []
  }
 ],
 "metadata": {
  "kernelspec": {
   "display_name": "Python 3",
   "language": "python",
   "name": "python3"
  },
  "language_info": {
   "codemirror_mode": {
    "name": "ipython",
    "version": 3
   },
   "file_extension": ".py",
   "mimetype": "text/x-python",
   "name": "python",
   "nbconvert_exporter": "python",
   "pygments_lexer": "ipython3",
   "version": "3.8.3"
  }
 },
 "nbformat": 4,
 "nbformat_minor": 4
}
