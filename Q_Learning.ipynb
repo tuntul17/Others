{
 "cells": [
  {
   "cell_type": "code",
   "execution_count": 2,
   "metadata": {},
   "outputs": [],
   "source": [
    "import gym \n",
    "import numpy as np\n",
    "import random as rn\n",
    "from pylab import *\n",
    "import math as mt"
   ]
  },
  {
   "cell_type": "code",
   "execution_count": 3,
   "metadata": {},
   "outputs": [],
   "source": [
    "env = gym.make(\"CartPole-v1\")#,render_mode=\"human\""
   ]
  },
  {
   "cell_type": "code",
   "execution_count": 4,
   "metadata": {},
   "outputs": [],
   "source": [
    "act_spc = env.action_space.n\n",
    "obs_spc = env.observation_space.shape\n",
    "#just in case\n",
    "H_obs_spc = env.observation_space.high\n",
    "L_obs_spc = env.observation_space.low"
   ]
  },
  {
   "cell_type": "code",
   "execution_count": 24,
   "metadata": {},
   "outputs": [],
   "source": [
    "#Hyperparameters: \n",
    "lr = 0.01\n",
    "gamma = 0.96\n",
    "\n",
    "epoc =90000 #number of iteration\n",
    "tot = 0\n",
    "tot_rew = 0\n",
    "pr_rew =0\n",
    "#epsilon will change later, not a hyperparameter\n",
    "eps =1\n",
    "S_decay_eps = 1 #starting epsilon decay number\n",
    "E_decay_eps = epoc//2\n",
    "eps_decay = eps/(E_decay_eps-S_decay_eps)\n",
    "\n",
    "M_rew= []\n",
    "Pr_Rew =[]"
   ]
  },
  {
   "cell_type": "code",
   "execution_count": 8,
   "metadata": {},
   "outputs": [],
   "source": [
    "obs = [30,30,50,50] #honestly, I have no clue why is it set like this\n",
    "W_size_array = np.array([0.25,0.25,0.01,0.1]) #same as here"
   ]
  },
  {
   "cell_type": "code",
   "execution_count": 9,
   "metadata": {},
   "outputs": [
    {
     "data": {
      "text/plain": [
       "(30, 30, 50, 50, 2)"
      ]
     },
     "execution_count": 9,
     "metadata": {},
     "output_type": "execute_result"
    }
   ],
   "source": [
    "#Q-Table:\n",
    "Qtab = np.random.uniform(low=0,high=1,size=(obs+[act_spc]))\n",
    "#check Q-Table\n",
    "Qtab.shape"
   ]
  },
  {
   "cell_type": "code",
   "execution_count": 25,
   "metadata": {},
   "outputs": [],
   "source": [
    "def get_D_st(state):\n",
    "    disc_st = state/W_size_array + np.array([15,10,1,10])\n",
    "    return tuple(disc_st.astype(np.int))"
   ]
  },
  {
   "cell_type": "code",
   "execution_count": 27,
   "metadata": {
    "scrolled": true
   },
   "outputs": [
    {
     "name": "stdout",
     "output_type": "stream",
     "text": [
      "Episode: 0\n",
      "Epsilon:  0.9777772839396617\n",
      "Epsilon:  0.9555545678793234\n",
      "Epsilon:  0.933331851818985\n",
      "Epsilon:  0.9111091357586467\n",
      "Epsilon:  0.8888864196983084\n",
      "Epsilon:  0.8666637036379701\n",
      "Epsilon:  0.8444409875776318\n",
      "Epsilon:  0.8222182715172934\n",
      "Epsilon:  0.7999955554569551\n",
      "Episode: 10000\n",
      "Epsilon:  0.7777728393966168\n",
      "Epsilon:  0.7555501233362785\n",
      "Epsilon:  0.7333274072759401\n",
      "Epsilon:  0.7111046912156018\n",
      "Epsilon:  0.6888819751552635\n",
      "Epsilon:  0.6666592590949252\n",
      "Epsilon:  0.6444365430345869\n",
      "Epsilon:  0.6222138269742485\n",
      "Epsilon:  0.5999911109139102\n",
      "Epsilon:  0.5777683948535719\n",
      "Episode: 20000\n",
      "Epsilon:  0.5555456787932336\n",
      "Epsilon:  0.5333229627328953\n",
      "Epsilon:  0.5111002466725569\n",
      "Epsilon:  0.4888775306122186\n",
      "Epsilon:  0.4666548145518803\n",
      "Epsilon:  0.44443209849154197\n",
      "Epsilon:  0.42220938243120365\n",
      "Epsilon:  0.39998666637086533\n",
      "Epsilon:  0.377763950310527\n",
      "Epsilon:  0.3555412342501887\n",
      "Episode: 30000\n",
      "Epsilon:  0.33331851818985037\n",
      "Epsilon:  0.31109580212951204\n",
      "Epsilon:  0.2888730860691737\n",
      "Epsilon:  0.2666503700088354\n",
      "Epsilon:  0.24442765394849011\n",
      "Epsilon:  0.22220493788812404\n",
      "Epsilon:  0.19998222182775796\n",
      "Epsilon:  0.17775950576739188\n",
      "Epsilon:  0.1555367897070258\n",
      "Epsilon:  0.13331407364665973\n",
      "Episode: 40000\n",
      "Epsilon:  0.11109135758630234\n",
      "Epsilon:  0.08886864152595014\n",
      "Epsilon:  0.06664592546559794\n",
      "Epsilon:  0.0444232094052401\n",
      "Epsilon:  0.022200493344882374\n",
      "Epsilon:  -2.222271547428371e-05\n",
      "Episode: 50000\n",
      "Episode: 60000\n",
      "Episode: 70000\n",
      "Episode: 80000\n",
      "Episode: 90000\n"
     ]
    }
   ],
   "source": [
    "for i in range(epoc+1):\n",
    "    disc_st = get_D_st(env.reset()[0])\n",
    "    done = False\n",
    "    EpRew = 0 # episode reward ==> starts at 0 for each epoch\n",
    "    #Check where the loop is\n",
    "    if i %10000==0:\n",
    "        print(\"Episode: \"+str(i)) #i is an integer, needs to be string in this case!\n",
    "    \n",
    "    while not done:\n",
    "        #Action selection:\n",
    "        if np.random.random() > eps:\n",
    "            act = np.argmax(Qtab[disc_st]) #action from Q-Table\n",
    "        else:\n",
    "            act = np.random.randint(0,act_spc) #random action\n",
    "        \n",
    "        nw_st,rew,done,_,_ = env.step(act)\n",
    "        nw_D_state = get_D_st(nw_st)\n",
    "        \n",
    "        EpRew += rew\n",
    "        #Update the Q-Table:\n",
    "        if not done: \n",
    "            F_mxQ = np.max(Qtab[nw_D_state])\n",
    "            C_Q = Qtab[disc_st+(act,)]\n",
    "            N_Q = (1-lr)*C_Q+lr*(rew+gamma*F_mxQ)\n",
    "        \n",
    "        disc_st = nw_D_state\n",
    "        \n",
    "    if E_decay_eps>=i>=S_decay_eps:\n",
    "        eps -=eps_decay\n",
    "        if i%1000==0:\n",
    "            print(\"Epsilon: \",str(eps))\n",
    "    tot_rew += EpRew\n",
    "    pr_rew = EpRew\n",
    "    \n",
    "    if i %500==0:\n",
    "        mean_rew = tot_rew/500\n",
    "        #print(\"Mean Reward: \",str(mean_rew))\n",
    "        M_rew.append(mean_rew)\n",
    "        tot_rew=0\n",
    "        \n",
    "env.close()\n",
    "        \n",
    "        "
   ]
  },
  {
   "cell_type": "code",
   "execution_count": 29,
   "metadata": {},
   "outputs": [
    {
     "data": {
      "image/png": "[encoded data removed]",
      "text/plain": [
       "<Figure size 432x288 with 1 Axes>"
      ]
     },
     "metadata": {
      "needs_background": "light"
     },
     "output_type": "display_data"
    }
   ],
   "source": [
    "xax = np.arange(0,len(M_rew))\n",
    "scatter(xax,M_rew,s=2,c='k')\n",
    "plot(M_rew)\n",
    "\n",
    "grid(True)"
   ]
  },
  {
   "cell_type": "code",
   "execution_count": 28,
   "metadata": {},
   "outputs": [
    {
     "data": {
      "text/plain": [
       "181"
      ]
     },
     "execution_count": 28,
     "metadata": {},
     "output_type": "execute_result"
    }
   ],
   "source": [
    "len(M_rew)"
   ]
  },
  {
   "cell_type": "code",
   "execution_count": 30,
   "metadata": {},
   "outputs": [
    {
     "data": {
      "text/plain": [
       "31.6181546961326"
      ]
     },
     "execution_count": 30,
     "metadata": {},
     "output_type": "execute_result"
    }
   ],
   "source": [
    "mean(M_rew)"
   ]
  },
  {
   "cell_type": "code",
   "execution_count": null,
   "metadata": {},
   "outputs": [],
   "source": []
  }
 ],
 "metadata": {
  "kernelspec": {
   "display_name": "Python 3",
   "language": "python",
   "name": "python3"
  },
  "language_info": {
   "codemirror_mode": {
    "name": "ipython",
    "version": 3
   },
   "file_extension": ".py",
   "mimetype": "text/x-python",
   "name": "python",
   "nbconvert_exporter": "python",
   "pygments_lexer": "ipython3",
   "version": "3.8.3"
  }
 },
 "nbformat": 4,
 "nbformat_minor": 4
}
